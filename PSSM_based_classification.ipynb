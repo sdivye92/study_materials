{
 "cells": [
  {
   "cell_type": "markdown",
   "metadata": {},
   "source": [
    "Position Frequency Matrix, $\\mathcal{F}$, is a 20xL matrix which tells how many times every amino acid is present at every prosotion. Here L is the length of the sequence.\n",
    "$$\\mathcal{F}_{k,j} = \\sum_{i=1}^{N} \\mathcal{I}(Seq[j]==k)$$\n",
    "where, <br>\n",
    "k = alphabet <br>\n",
    "j = position <br>\n",
    "N = total number of sequences\n",
    "Using"
   ]
  },
  {
   "cell_type": "markdown",
   "metadata": {},
   "source": [
    "Using PFM, we can calculate Position Probability Matrix, $\\mathcal{M}$, which gives the probability of occurance of amino acid is present at every prosotion.\n",
    "$$\\mathcal{M}_{k,j} = \\frac{\\mathcal{F}_{k,j}}{N}$$"
   ]
  },
  {
   "cell_type": "markdown",
   "metadata": {},
   "source": [
    "$\\mathcal{M}$ can be considered as a probabilist model defining which tries to represent the structure of the sequences from which it is created"
   ]
  },
  {
   "cell_type": "markdown",
   "metadata": {},
   "source": [
    "Given, the PPM, for any generated sequence, seq, we can find the likelihood of every animo acids in that sequence being at the position it is on.\n",
    "\n",
    "$$P(\\text{k at pos j} | \\mathcal{M}_{k,j}) = \\frac{P(\\mathcal{M}_{k,j}|\\text{k at pos j})}{P(\\text{k at pos j})} \\quad \\forall{k} \\in seq$$\n",
    "\n",
    "and with the assumption that occurence of each amino acid at its position is independent of amino acid at previous position, we can calculate probability of this sequence's structure being similar to the sequences from which the given PPM is created\n",
    "$$P(seq|\\mathcal{M}_{k,j}) = \\prod_{k \\in seq} P(\\text{k at pos j} | \\mathcal{M}_{k,j})$$\n",
    "\n",
    "If we have two set of data, AVP and non-AVP, we can construct two PPM, $\\mathcal{M}_{avp}$ and $\\mathcal{M}_{non-avp}$, respectively. And using these we can find the probability of that sequence having structure similar to from AVP or non-AVP\n",
    "$$P(seq|\\mathcal{M}_{avp}) = \\prod_{k \\in seq} P(\\text{k at pos j} | \\mathcal{M}_{avp})$$\n",
    "similarly,\n",
    "$$P(seq|\\mathcal{M}_{non-avp}) = \\prod_{k \\in seq} P(\\text{k at pos j} | \\mathcal{M}_{non-avp})$$"
   ]
  },
  {
   "cell_type": "markdown",
   "metadata": {},
   "source": [
    "If the data is less, it is possible that some amino acids might not occur at a particular position, resulting in likelihood of zero for some sequences. Therefore, we smoothen the $\\mathcal{M}_{k,j}$ using lidstode smoothin or Laplace smoothing, which from a bayesian point of view is a posterior for multinomial distribution using a symmetric Dirichlet distribution with parameter $\\alpha$ as a prior probability.\n",
    "$$\\mathcal{M}_{k,j} = \\frac{\\mathcal{F}_{k,j} + \\alpha}{N + \\alpha d}$$\n",
    "where, d = 20 (number of amino acids)"
   ]
  },
  {
   "cell_type": "code",
   "execution_count": null,
   "metadata": {},
   "outputs": [],
   "source": []
  }
 ],
 "metadata": {
  "kernelspec": {
   "display_name": "Python 3",
   "language": "python",
   "name": "python3"
  },
  "language_info": {
   "codemirror_mode": {
    "name": "ipython",
    "version": 3
   },
   "file_extension": ".py",
   "mimetype": "text/x-python",
   "name": "python",
   "nbconvert_exporter": "python",
   "pygments_lexer": "ipython3",
   "version": "3.7.4"
  }
 },
 "nbformat": 4,
 "nbformat_minor": 4
}
