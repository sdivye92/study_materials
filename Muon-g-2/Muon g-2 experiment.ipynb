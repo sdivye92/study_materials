{
 "cells": [
  {
   "cell_type": "markdown",
   "metadata": {},
   "source": [
    "# New Physics? 5th Fundamental Force?\n",
    "\n",
    "FermiLab's Muon g-2 experiment's results are out and they are astonishing.\n",
    "\n",
    "Muon's are elementary particles similar to electron. They have same spin and charge as electron but are much more massive (around 200 time in mass). Since these particles are very much similar to electrons, scientists have been of studying its interaction with magnetic field and compare the results of the theoretical model (based on all of the physics we know) with the actual behaviour of these muons (experimental values). Muons, when exposed to a magnetic field, tend to rotate about its axis of spin and start to precess (similar to a gyroscope) which is caused by its intrinsic properties of spin and electric charge. It is because of this behaviour we can find the magnetic dipole moment, $\\mu$.\n",
    "\n",
    "Before we go further, lets understand a bit about this magnetic dipole moment and why it is important to us.\n",
    "\n",
    "Since, muon is very similar to an electron, let us look at the magnetic dipole moment for an electron, which for very obvious reasons is called the electron magnetic dipole moment. If we consider electron having a charge of $-e$ and mass $m_e$ to behave like a classical magnet which rotates about its axis with an angular momentum, $L$, then its electron magnetic dipole moment, $\\mu_e$ can be defined as\n",
    "\n",
    "$$\\mu = \\frac{-e}{2 m_e}L$$\n",
    "\n",
    "Since we are looking at the magnetic moment caused due spin (spin angular momentum), $S$ of an electron, this is called spin magnetic dipole moment, $\\mu_s$. For spin magnetic dipole moment, it turns out that classical results are off by a small fraction of a percent. Therefore, to correct the classical results, right hand side of the above equation is multiplied by a dimensionless correction factor $g$, known as the $\\textit{g-factor}$. This modifies above equation to\n",
    "\n",
    "$$\\mu_s = g\\frac{-e}{2 m_e}S$$\n",
    "\n",
    "Similar to electron, we can write this eqaution for muon,\n",
    "\n",
    "$$\\mu_s = g_{\\mu}\\frac{-e}{2 m_{\\mu}}S$$\n",
    "\n",
    "Since, we want to study the behaviour of muons under a magnetic field, it is important to know the value for its $\\textit{g-factor}$, $g_{\\mu}$ very accurately.\n",
    "\n",
    "The Dirac equation predicts the value of the $\\textit{g-factor}$ to be 2 ($g_{\\mu}=2$). However, if we account for all of the physics we know, this value will be slightly higher than 2. This difference can be quantified using anomalous magnetic dipole moment denoted as $a$ and defines as\n",
    "\n",
    "$$a = \\frac{g-2}{2}$$\n",
    "\n",
    "In June 2020, a colaboration of more than 170 researchers, did the extremely complex calculations found that the value of the $\\textit{g-factor}$ for the muon is $\\textbf{2.00233183620}$.\n",
    "\n",
    "It was thought that the muon $\\textit{g-factor}$ can, in theory, be affected by physics beyond the Standard Model, so it was decided to measured this value very precisely, at the Brookhaven National Laboratory in 2006. The experimentations found the value for $\\textit{g-factor}$ to be $\\textbf{2.0023318418}$.\n",
    "\n",
    "This value was different from the theoretical value, which may indicate that the Standard Model is incomplete (unknown force/phenomenon or may be existance of 5th fundamental force). Since, the implication are huge, it needs to check whether the difference is significant or not. In order to do that, first the experimentation is repeated multiple times then the standard deviation ($\\sigma$) is calculated for the measured value and if theoretical and experimental values are more than 5$\\sigma$ apart, only than the difference between them is considered significant and will indicate presence of new physics.\n",
    "\n",
    "Since, the experiment was ran only once (E821) the standard deviation was calculated based on ranges of all possible errors in measurements (because of lack of precission of instruments or because of measurement or experimentation method). It was found that there was a difference of 3.71$\\sigma$, which was big but not significant enough. Therefore, FermiLab decided to verify the results with improved methods and equipments. The data from their experimentation run gave the value for $\\textit{g-factor}$ to be $\\textbf{2.00233184122}$.\n",
    "\n",
    "When the results from fermilab's experiment (E989 Run 1) were combined with results from the previous results, the theoretical and experimental values for $\\textit{g-factor}$ came to be 4.24$\\sigma$ apart.\n",
    "\n",
    "<img src=\"./g-2.png\" style=\"width:35%\" desc=\"source:https://www.youtube.com/watch?v=ZjnK5exNhZ0&t=3s&ab_channel=Fermilab\"><p style=\"text-align:center\">Fig 1. Muon g-2 experiment results</p></img>\n",
    "\n",
    "Although, still less than significance level, these results are much better then previous results and the distance can further be improved by using more precise method or equipment or running the experimentation multiple times. Based on the improved results scientist have faith that the results will reach the required signifinace level of 5$\\sigma$ which will prove the indication of presence of new physics.\n",
    "\n",
    "As of now, the data from only Run 1 is analysed and that data from Run 2 and Run 3 is under study. Further Run 4 is scheduled to take place some time around June-July 2021 and also the plans are to have up to Run 6 to collect 20 times the data (positrons, which are used as the indirect means of measuring the precession).\n",
    "\n",
    "Another question which may arise is whether the theoretical calculation is correct or might have a mistake acounting for the difference in theoretical and experimental values? And this is a very valid question indeed because the theoretical value is found by calculating and studying around 13000 different interaction diagrams for quantum correction. Some of these diagrams are extremely hard to calculate and have multiple methods of calculation and that is why there is error bar even for the theoretical muon $\\textit{g-factor}$ value. One of the group involved in the theoretical study, have very recently came up with the value for the muon $\\textit{g-factor}$ value which is very close to the experimental value. There calculation is based on a method know as lattice QCD which involve lot of assumptions. There claim is that they very well understand the functioning of their technique, however, these results will be reviewed by other researchers.\n",
    "\n",
    "In coming 1-2 years not only experimetalist will be busy anaysing the data and conducting more experiments but the theoretical physicists are also going to be busy verifying newer techniques and possibly improving the theoretical muon $\\textit{g-factor}$ value. Whatever results we see after the experimentation is complete, whether we see a difference or an overlap, the discovery is going to be extremely interesting and in the process we will learn lot of new things about physics."
   ]
  }
 ],
 "metadata": {
  "kernelspec": {
   "display_name": "Python 3",
   "language": "python",
   "name": "python3"
  },
  "language_info": {
   "codemirror_mode": {
    "name": "ipython",
    "version": 3
   },
   "file_extension": ".py",
   "mimetype": "text/x-python",
   "name": "python",
   "nbconvert_exporter": "python",
   "pygments_lexer": "ipython3",
   "version": "3.7.4"
  },
  "varInspector": {
   "cols": {
    "lenName": 16,
    "lenType": 16,
    "lenVar": 40
   },
   "kernels_config": {
    "python": {
     "delete_cmd_postfix": "",
     "delete_cmd_prefix": "del ",
     "library": "var_list.py",
     "varRefreshCmd": "print(var_dic_list())"
    },
    "r": {
     "delete_cmd_postfix": ") ",
     "delete_cmd_prefix": "rm(",
     "library": "var_list.r",
     "varRefreshCmd": "cat(var_dic_list()) "
    }
   },
   "types_to_exclude": [
    "module",
    "function",
    "builtin_function_or_method",
    "instance",
    "_Feature"
   ],
   "window_display": false
  }
 },
 "nbformat": 4,
 "nbformat_minor": 2
}
