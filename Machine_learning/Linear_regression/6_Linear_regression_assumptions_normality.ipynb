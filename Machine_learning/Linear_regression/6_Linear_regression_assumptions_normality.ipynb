{
 "cells": [
  {
   "cell_type": "markdown",
   "id": "1faf4d81",
   "metadata": {},
   "source": [
    "# Normality"
   ]
  },
  {
   "cell_type": "markdown",
   "id": "4d716346",
   "metadata": {},
   "source": [
    "The normality assumption in linear regression refers to the assumption that the target variable is normally distributed for the model of form:\n",
    "\n",
    "$$ y = \\beta_0 + \\beta_1 x_1 + \\dots + \\beta_n x_n $$\n",
    "\n",
    "As seen in [section 3](3_Linear_regression_MLE.ipynb), this when passed through maximum likelihood estimation (MLE) for $\\hat\\beta$, we get sum of squared residuals as the cost function which needs to be minimized:\n",
    "\n",
    "$$ \\mathcal{S}(\\beta) = \\frac{1}{n}\\sum_{i=1}^n(y-\\hat{y})^2 = \\text{MSE} $$\n",
    "\n",
    "But what-if our target variable is not normally distributed? Benefit is that we can **change the assumption on target variable distribution** and continue with the MLE to get a estimate for $\\beta$."
   ]
  },
  {
   "cell_type": "markdown",
   "id": "75f75122",
   "metadata": {},
   "source": [
    "## Breaking the assumption\n",
    "\n",
    "Lets say, that the data we have in that the target variable instead of being a continuous variable is discrete variable which takes only two values either 0 or 1 (i.e $y \\in [0,1]$). This is very common in classification problems where the target variable a class label to which that data point belongs. In this case, the target variable will have binomial distribution:\n",
    "\n",
    "$$ y \\sim Bernoulli(p) $$\n",
    "\n",
    "which means:\n",
    "\n",
    "\\begin{align*}\n",
    "    y =\n",
    "    \\left\\{\n",
    "    \\begin{array}{ll}\n",
    "      1,&  p \\\\\n",
    "      0,&  1-p\n",
    "    \\end{array}\n",
    "    \\right.\n",
    "\\end{align*}\n",
    "\n",
    "Let us create a linear model for this estimating the probability of target variable taking a value of 1. This can we defined as\n",
    "\n",
    "$$\n",
    "p = \\beta_0 + \\beta_1 x_1 + \\dots + \\beta_n x_n\n",
    "$$\n",
    "\n",
    "But there is an issue, LHS is a probability which has a range [0,1] whereas RHS has range [$-\\infty, +\\infty$]. This is a miss match.\n",
    "\n",
    "What-if instead of modeling probability we model odds ratio i.e. $\\frac{p}{1-p}$. This is now unbound on the upper end but still has a lower bound of zero. This ratio has a value of 1 in the middle, indicating a probability of .5 for both occurrence and non occurrence. A small range of odds, from 0 to 1, have a higher probability of failure than for success. Then there is an infinite range of odds, from 1 to infinity, which shows higher probability of success than of failure.\n",
    "\n",
    "Due to the unbalanced ranges and to centralize the odds ratio around 0, we need to take a logarithmic transformation of the odds ratio. This helps the ranges of the odds ratio to become symmetric around 0, i.e., go from -infinity to +infinity.\n",
    "\n",
    "So, now we have a model:\n",
    "\n",
    "$$\n",
    "\\log\\Big(\\frac{p}{1-p}\\Big) = \\beta_0 + \\beta_1 x_1 + \\dots + \\beta_n x_n = x\\beta\n",
    "$$\n",
    "\n",
    "From this we can find a model for probability of y=1\n",
    "\n",
    "\\begin{align*}\n",
    "\\log\\Big(\\frac{p}{1-p}\\Big) &= x\\beta & \\\\\n",
    "\\frac{p}{1-p} &= e^{x\\beta} & \\text{taking exponential on both side} \\\\\n",
    "p &= (1-p)e^{x\\beta} & \\\\\n",
    "p &= e^{x\\beta} - pe^{x\\beta} & \\\\\n",
    "p + pe^{x\\beta} &= e^{x\\beta} & \\\\\n",
    "p(1 + e^{x\\beta}) &= e^{x\\beta} & \\\\\n",
    "p &= \\frac{e^{x\\beta}}{(1 + e^{x\\beta})} & \\\\\n",
    "p &= \\frac{1}{(\\frac{1}{e^{x\\beta}} + \\frac{e^{x\\beta}}{e^{x\\beta}})} & \\\\\n",
    "p &= \\frac{1}{(\\frac{1}{e^{x\\beta}} + 1)} & \\\\\n",
    "p &= \\frac{1}{(e^{-x\\beta} + 1)} & \\\\\n",
    "p &= \\frac{1}{(1 + e^{-x\\beta})} & \\\\\n",
    "\\end{align*}\n",
    "\n",
    "That is we get probability of y=1:\n",
    "$$\n",
    "P(y=1) = \\frac{1}{(1 + e^{-x\\beta})}\n",
    "$$"
   ]
  },
  {
   "cell_type": "code",
   "execution_count": null,
   "id": "0429765e",
   "metadata": {},
   "outputs": [],
   "source": []
  }
 ],
 "metadata": {
  "kernelspec": {
   "display_name": "Python 3 (ipykernel)",
   "language": "python",
   "name": "python3"
  },
  "language_info": {
   "codemirror_mode": {
    "name": "ipython",
    "version": 3
   },
   "file_extension": ".py",
   "mimetype": "text/x-python",
   "name": "python",
   "nbconvert_exporter": "python",
   "pygments_lexer": "ipython3",
   "version": "3.13.5"
  },
  "toc": {
   "base_numbering": 1,
   "nav_menu": {},
   "number_sections": true,
   "sideBar": true,
   "skip_h1_title": false,
   "title_cell": "Table of Contents",
   "title_sidebar": "Contents",
   "toc_cell": false,
   "toc_position": {},
   "toc_section_display": true,
   "toc_window_display": false
  }
 },
 "nbformat": 4,
 "nbformat_minor": 5
}
