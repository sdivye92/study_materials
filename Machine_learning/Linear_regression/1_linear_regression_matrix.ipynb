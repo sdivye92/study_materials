{
 "cells": [
  {
   "cell_type": "markdown",
   "id": "38d26d03",
   "metadata": {},
   "source": [
    "## Simple Linear Regression (Matrix form)"
   ]
  },
  {
   "cell_type": "markdown",
   "id": "77b0661d",
   "metadata": {},
   "source": [
    "The Simple Linear Regression (SLR) model in scaler form is represented as\n",
    "\n",
    "$$ y = \\beta_0 + \\beta_1 x_1 + \\beta_2 x_2 + \\cdots + \\beta_n x_n + \\epsilon \\quad where \\quad \\epsilon \\sim \\mathcal{N}(0, \\sigma^2) $$\n",
    "\n",
    "This can be written for each obeservation in the data\n",
    "\n",
    "\\begin{align}\n",
    "y_1 & = \\beta_0 + \\beta_1 x_{11} + \\beta_2 x_{12} + \\cdots + \\beta_p x_{1p} + \\epsilon_1 & \\\\\n",
    "y_2 & = \\beta_0 + \\beta_1 x_{21} + \\beta_2 x_{22} + \\cdots + \\beta_p x_{2p} + \\epsilon_2 & \\forall \\; n \\in [1,N] \\; \\text{and} \\; p \\in [1,p]\\\\\n",
    "\\vdots & \\qquad \\vdots & \\\\\n",
    "y_n & = \\beta_0 + \\beta_1 x_{n1} + \\beta_2 x_{n2} + \\cdots + \\beta_p x_{np} + \\epsilon_n & \n",
    "\\end{align}"
   ]
  },
  {
   "cell_type": "markdown",
   "id": "77bdca6a",
   "metadata": {},
   "source": [
    "The same SLR model can be represented in matrix form\n",
    "\n",
    "\\begin{align}\n",
    "\\begin{bmatrix}\n",
    "    y_1 \\\\\n",
    "    y_2 \\\\\n",
    "    \\vdots \\\\\n",
    "    y_n\n",
    "\\end{bmatrix}\n",
    "&=\n",
    "\\begin{bmatrix}\n",
    "    \\beta_0 + \\beta_1 x_{11} + \\beta_2 x_{12} + \\cdots + \\beta_p x_{1p} \\\\\n",
    "    \\beta_0 + \\beta_1 x_{21} + \\beta_2 x_{22} + \\cdots + \\beta_p x_{2p} \\\\\n",
    "    \\vdots \\\\\n",
    "    \\beta_0 + \\beta_1 x_{n1} + \\beta_2 x_{n2} + \\cdots + \\beta_p x_{np}\n",
    "\\end{bmatrix} + \n",
    "\\begin{bmatrix}\n",
    "    \\epsilon_1 \\\\\n",
    "    \\epsilon_2 \\\\\n",
    "    \\vdots \\\\\n",
    "    \\epsilon_n\n",
    "\\end{bmatrix}\n",
    "\\end{align}"
   ]
  },
  {
   "cell_type": "markdown",
   "id": "c5c5e6a9",
   "metadata": {},
   "source": [
    "which can be further broken as\n",
    "\n",
    "\\begin{align}\n",
    "\\begin{bmatrix}\n",
    "    y_1 \\\\\n",
    "    y_2 \\\\\n",
    "    \\vdots \\\\\n",
    "    y_n\n",
    "\\end{bmatrix}\n",
    "&=\n",
    "\\begin{bmatrix}\n",
    "    1 & x_{11} & x_{12} & \\cdots & x_{1p} \\\\\n",
    "    1 & x_{21} & x_{22} & \\cdots & x_{2p} \\\\\n",
    "    & & \\vdots & & \\\\\n",
    "    1 & x_{n1} & x_{n2} & \\cdots & x_{np}\n",
    "\\end{bmatrix}\n",
    "\\begin{bmatrix}\n",
    "    \\beta_0 \\\\\n",
    "    \\beta_1 \\\\\n",
    "    \\vdots \\\\\n",
    "    \\beta_p\n",
    "\\end{bmatrix} + \n",
    "\\begin{bmatrix}\n",
    "    \\epsilon_1 \\\\\n",
    "    \\epsilon_2 \\\\\n",
    "    \\vdots \\\\\n",
    "    \\epsilon_n\n",
    "\\end{bmatrix}\n",
    "\\end{align}"
   ]
  },
  {
   "cell_type": "markdown",
   "id": "a86d6953",
   "metadata": {},
   "source": [
    "or simply as\n",
    "\n",
    "$$ \\textbf{y} = X\\mathbf{\\beta} + \\mathbf{\\epsilon} $$\n",
    "where\n",
    "* $X$ is called the design matrix.\n",
    "* $\\mathbf{\\beta}$ is the vector of coefficients.\n",
    "* $\\mathbf{\\epsilon}$ is the error vector.\n",
    "* $\\textbf{y}$ is the response or target vector."
   ]
  },
  {
   "cell_type": "markdown",
   "id": "6de43421",
   "metadata": {},
   "source": [
    "### Distributional Assumptions in Matrix Form\n",
    "\n",
    "$$\\mathbf{\\epsilon} \\sim \\mathcal{N}(\\textbf{0}, \\Sigma)$$\n",
    "\n",
    "where $\\Sigma$ = covariance matrix\n",
    "\n",
    "For case of ordinary least square (OLS) where there is a constant variance for all features $\\Sigma = \\sigma^2I $, distribution of error can be re-written as\n",
    "\n",
    "$$\\mathbf{\\epsilon} \\sim \\mathcal{N}(\\textbf{0}, \\sigma^2I)$$\n",
    "\n",
    "and hence distribution of target (y) will be\n",
    "\n",
    "$$\\textbf{y} \\sim \\mathcal{N}(X\\mathbf{\\beta}, \\sigma^2I)$$"
   ]
  },
  {
   "cell_type": "markdown",
   "id": "271f792c",
   "metadata": {},
   "source": [
    "Therefore,\n",
    "\n",
    "Covariance of error ($\\epsilon$)\n",
    "\n",
    "\\begin{align}\n",
    "\\sigma^2_{\\epsilon} = Cov\n",
    "\\begin{bmatrix}\n",
    "    \\epsilon_1 \\\\\n",
    "    \\epsilon_2 \\\\\n",
    "    \\vdots \\\\\n",
    "    \\epsilon_n\n",
    "\\end{bmatrix} = \\sigma^2I = \n",
    "\\begin{bmatrix}\n",
    "    \\sigma^2 & 0 & \\cdots & 0 \\\\\n",
    "    0 & \\sigma^2 & \\cdots & 0 \\\\\n",
    "    \\vdots & \\vdots & \\ddots & \\vdots \\\\\n",
    "    0 & 0 & \\cdots & \\sigma^2\n",
    "\\end{bmatrix}\n",
    "\\end{align}"
   ]
  },
  {
   "cell_type": "markdown",
   "id": "200a691c",
   "metadata": {},
   "source": [
    "Similarly, Covariance of target ($\\textbf{y}$)\n",
    "\n",
    "\\begin{align}\n",
    "\\sigma^2_{\\textbf{y}} = Cov\n",
    "\\begin{bmatrix}\n",
    "    y_1 \\\\\n",
    "    y_2 \\\\\n",
    "    \\vdots \\\\\n",
    "    y_n\n",
    "\\end{bmatrix} = \\sigma^2I\n",
    "\\end{align}"
   ]
  },
  {
   "cell_type": "markdown",
   "id": "3f52fd6f",
   "metadata": {},
   "source": [
    "### Parameter Estimation\n",
    "\n",
    "Rearranging the SLR model equation we can get residuals as\n",
    "\n",
    "$$\\mathbf{\\epsilon} = \\textbf{y} − X\\mathbf{\\beta}$$.\n",
    "\n",
    "We want to minimize sum of squared residuals.\n",
    "\n",
    "$$ \\text{minimize} \\quad \\sum \\epsilon_i^2 = [\\epsilon_1 \\; \\epsilon_2 \\; \\cdots \\; \\epsilon_n] \\begin{bmatrix}\\epsilon_1 \\\\ \\epsilon_2 \\\\ \\vdots \\\\ \\epsilon_n\\end{bmatrix} = \\mathbf{\\epsilon}^T\\mathbf{\\epsilon} $$\n"
   ]
  },
  {
   "cell_type": "markdown",
   "id": "87d35403",
   "metadata": {},
   "source": [
    "or \n",
    "$$ \\text{minimize} \\quad \\mathbf{\\epsilon}^T\\mathbf{\\epsilon} = (\\textbf{y} − X\\mathbf{\\beta})^T(\\textbf{y} − X\\mathbf{\\beta})$$"
   ]
  },
  {
   "cell_type": "markdown",
   "id": "5cc63d69",
   "metadata": {},
   "source": [
    "To find the $\\mathbf{\\beta}$ which minimize above equation, the differentiation of above equation with respect to $\\beta$ should be equal to zero vector\n",
    "\n",
    "i.e.\n",
    "\n",
    "$$ \\frac{d}{d\\beta}(\\mathbf{\\epsilon}^T\\mathbf{\\epsilon}) = \\frac{d}{d\\beta}(\\textbf{y} − X\\mathbf{\\beta})^T(\\textbf{y} − X\\mathbf{\\beta}) = \\textbf{0} $$\n",
    "\n",
    "$$ -2X^T(\\textbf{y} − X\\mathbf{\\beta}) = \\textbf{0} $$\n",
    "\n",
    "$$ X^T\\textbf{y} = X^TX\\mathbf{\\beta} $$\n",
    "\n",
    "or\n",
    "\n",
    "$$ X^T\\textbf{y} = (X^TX)\\mathbf{\\beta} $$\n",
    "\n",
    "Left multiplying both side by $(X^TX)^{-1}$ we get\n",
    "\n",
    "$$ (X^TX)^{-1}X^T\\textbf{y} = (X^TX)^{-1}(X^TX)\\mathbf{\\beta} $$\n",
    "\n",
    "therefore,\n",
    "\n",
    "$$ \\mathbf{\\beta} = (X^TX)^{-1}X^T\\textbf{y} $$"
   ]
  },
  {
   "cell_type": "markdown",
   "id": "a2eccd7a",
   "metadata": {},
   "source": [
    "### Hat Matrix\n",
    "\n",
    "$$ \\hat{\\textbf{y}} = X\\mathbf{\\beta} $$\n",
    "\n",
    "$$ \\hat{\\textbf{y}} = X(X^TX)^{-1}X^T\\textbf{y} $$\n",
    "\n",
    "$$ \\hat{\\textbf{y}} = H\\textbf{y} $$\n",
    "\n",
    "where $H = X(X^TX)^{-1}X^T$. We call this the \"hat matrix\" because it turns $\\textbf{y}$ into $\\hat{\\textbf{y}}$.\n",
    "\n",
    "We can now express residual ($\\epsilon$) in terms of hat matrix as\n",
    "\n",
    "\\begin{align}\n",
    "\\mathbf{\\epsilon} &= \\textbf{y} - \\hat{\\textbf{y}} \\\\\n",
    "                  &= \\textbf{y} - H\\textbf{y} \\\\\n",
    "                  &= (I - H)\\textbf{y}\n",
    "\\end{align}\n",
    "\n",
    "Notice that the matrices $H$ and $(I − H)$ have two special properties. They are\n",
    "* Symmetric: $H = H^T$ and $(I − H)^T = (I − H)$.\n",
    "* Idempotent: $H^2 = H$ and $(I − H)^T(I − H) = (I − H)$"
   ]
  },
  {
   "cell_type": "markdown",
   "id": "bcaec354",
   "metadata": {},
   "source": [
    "### Estimated Covariance Matrix of $\\beta$\n",
    "\n",
    "* $\\beta$ is a linear combination of the elements of **y**.\n",
    "* These estimates are normal if **y** is normal.\n",
    "\n",
    "#### Useful theorem\n",
    "\n",
    "Suppose $U \\sim \\mathcal{N}(\\mu, \\Sigma)$, a multivariate normal vector, and $V = c + DU$, a linear\n",
    "transformation of U where c is a vector and D is a matrix. Then $V \\sim \\mathcal{N}(c + D\\mu, D\\Sigma D^T)$.\n",
    "\n",
    "comparing this to SLR, we have\n",
    "\n",
    "$$U = \\textbf{y} \\sim \\mathcal{N}(X\\mathbf{\\beta}, \\sigma_{\\epsilon}^2I) \\quad and \\quad V = \\mathbf{\\beta} = [(X^TX)^{-1}X^T]\\textbf{y}$$\n",
    "$$D = (X^TX)^{-1}X^T$$\n",
    "$$\\mu = X\\mathbf{\\beta} \\quad and \\quad \\Sigma = \\sigma_{\\epsilon}^2I$$\n",
    "$$c = \\textbf{0}$$\n",
    "$$V = \\mathbf{\\beta}$$\n",
    "\n",
    "Above theorem tells us the vector $\\mathbf{\\beta}$ is normally distributed with\n",
    "\n",
    "\\begin{align}\n",
    "\\text{mean} &= (X^TX)^{-1}X^TX\\mathbf{\\beta} \\\\\n",
    "            &= (X^TX)^{-1}(X^TX)\\mathbf{\\beta} \\\\\n",
    "            &= \\mathbf{\\beta}\n",
    "\\end{align}\n",
    "\n",
    "\\begin{align}\n",
    "\\text{Cov} &= ((X^TX)^{-1}X^T)\\sigma_{\\epsilon}^2I((X^TX)^{-1}X^T)^T \\\\\n",
    "           &= \\sigma_{\\epsilon}^2((X^TX)^{-1}X^T)I((X^TX)^{-1}X^T)^T \\\\\n",
    "           &= \\sigma_{\\epsilon}^2(X^TX)^{-1}X^T ((X^TX)^{-1})^T X \\\\\n",
    "           &= \\sigma_{\\epsilon}^2(X^TX)^{-1}(X^TX) ((X^TX)^{-1}) \\\\\n",
    "           &= \\sigma_{\\epsilon}^2(X^TX)^{-1}\n",
    "\\end{align}\n",
    "\n",
    "using the fact that both $X^TX$ and its inverse are symmetric, so $((X^TX)^{−1})^T = (X^TX)^{−1}$\n",
    "\n",
    "Hence,\n",
    "\n",
    "$$ \\mathbf{\\beta} \\sim \\mathcal{N}(\\beta, \\sigma_{\\epsilon}^2(X^TX)^{-1}) $$\n",
    "\n",
    "Therefore, standard deviation of estimates ($\\beta$) =  $\\sqrt{\\sigma_{\\epsilon}^2(X^TX)^{-1}}$"
   ]
  }
 ],
 "metadata": {
  "kernelspec": {
   "display_name": "Python 3",
   "language": "python",
   "name": "python3"
  },
  "language_info": {
   "codemirror_mode": {
    "name": "ipython",
    "version": 3
   },
   "file_extension": ".py",
   "mimetype": "text/x-python",
   "name": "python",
   "nbconvert_exporter": "python",
   "pygments_lexer": "ipython3",
   "version": "3.8.12"
  }
 },
 "nbformat": 4,
 "nbformat_minor": 5
}
