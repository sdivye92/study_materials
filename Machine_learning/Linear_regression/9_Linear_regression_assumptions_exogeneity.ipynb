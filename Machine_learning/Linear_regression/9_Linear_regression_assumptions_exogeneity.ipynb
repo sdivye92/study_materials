{
 "cells": [
  {
   "cell_type": "markdown",
   "id": "9480b92a",
   "metadata": {},
   "source": [
    "# Strict Exogeneity"
   ]
  },
  {
   "cell_type": "markdown",
   "id": "61c987d3",
   "metadata": {},
   "source": [
    "This is one of the most important assumptions of OLS which makes the OLS estimate **BLUE**. Strict exogeneity means that each error term is uncorrelated with the entire design matrix **X**.\n",
    "\n",
    "$$ \\mathbb{E}[\\epsilon_n | \\text{X}] = 0, \\quad n \\in \\{1,\\dots,N\\} $$\n",
    "\n",
    "or\n",
    "\n",
    "$$ \\mathbb{E}[\\mathbb{\\epsilon} | \\text{X}] = 0 $$\n",
    "\n",
    "If $ \\mathbb{E}[\\mathbb{\\epsilon} | \\text{X}] = 0 $, then\n",
    "\n",
    "- $ \\mathbb{E}[\\mathbb{\\epsilon}] = 0 $ : The error has no internal structure\n",
    "- $ \\mathbb{E}[\\mathbb{\\epsilon}\\text{X}] = 0 $ : This rules out the possibility that **X** and error are correlated\n",
    "- $ \\mathbb{E}[\\mathbb{\\epsilon} | \\mathcal{f}(\\text{X})] = \\mathbb{E}[\\mathbb{\\epsilon}\\mathcal{f}(\\text{X})] = 0 $ : For some finite valued function $\\mathcal{f}$, $\\mathcal{f}(\\text{X})$ and error are correlated. This is particularly of interest, since with this assumption you may include $\\mathcal{f}(\\text{X})$, as a regressor and still have OLS providing you unbiased estimates. i.e OLS estimate will unbiased even for models like $y=\\beta_0 + \\beta_1 x_1 + \\beta_2 x_2 + \\beta_3 x_1^2 + \\beta_4 x_2^2 + \\beta_5 x_1x_2$\n",
    "- $ \\mathbb{E}[y | \\text{X}] = \\text{X}\\beta $ : $ \\mathbb{E}[y | \\text{X}] = \\mathbb{E}[\\text{X}\\beta + \\epsilon | \\text{X}] = \\text{X}\\beta + \\mathbb{E}[\\epsilon | \\text{X}] = \\text{X}\\beta + 0 = \\text{X}\\beta $\n",
    "\n",
    "Because of these, strict exogeneity implies:\n",
    "\n",
    "- There is no internal structure to the error.\n",
    "- There is no external structure to the error tied to the predictors.\n",
    "- OLS estimate will unbiased even for $\\mathcal{f}(\\text{X})$."
   ]
  },
  {
   "cell_type": "markdown",
   "id": "68f6645f",
   "metadata": {},
   "source": [
    "## Why is this assumption broken?\n",
    "\n",
    "There are may come situations when the assumption of strict exogeneity is broken. This may happen in cases like\n",
    "\n",
    "### Omitted variable bias\n",
    "\n",
    "Suppose the true model is\n",
    "\n",
    "$$ y = \\beta_1 X + \\beta_2 W + \\epsilon $$\n",
    "\n",
    "But we omit **w**, and estimate\n",
    "\n",
    "$$ y = \\beta_1 X + u $$\n",
    "\n",
    "Now the error term, $u=\\beta_2 W + \\epsilon$ will contain **W** and for most of the practical situations **W** will be some what correlated to **X**. That means\n",
    "\n",
    "$$ \\mathbb{E}[u | \\text{X}] \\neq 0 $$\n",
    "\n",
    "### Simultaneity Bias\n",
    "\n",
    "This is when the both independent variable and target variable are simultaneously dependent on each other. There is no directionality of the dependence but we try to model in one direction.\n",
    "\n",
    "**Example:**\n",
    "\n",
    "Let say we are trying to model students score in an exam based on the study hours the student put in the preparation. For this the model will be\n",
    "\n",
    "$$ \\text{score} = \\beta_0 + \\beta_1 \\text{study_hours} + \\epsilon $$\n",
    "\n",
    "We know that there is monotonic relationship between exam score and the study hours. If the student study more hours its more likely to get high score. However, if the student expects the exam to be easy and get high score, the student may study for less hours. Therefore, there is a relationship between exam score and study hours both ways.\n",
    "\n",
    "$$ \\text{score} \\leftrightarrow \\text{study_hours} $$\n",
    "\n",
    "Because of the bi-directional dependence between independence, the error becomes correlated to the design matrix **X**.\n",
    "\n",
    "### Reverse Causality\n",
    "\n",
    "This is when we create a model in a reverse relationship. i.e we create a model\n",
    "\n",
    "$$ y = \\beta_0 + \\beta_1 x + \\epsilon $$\n",
    "\n",
    "but in reality, $ x \\sim y $ instead of $ y \\sim x $ as modeled. Because of this the error becomes correlated to the design matrix **X**."
   ]
  },
  {
   "cell_type": "markdown",
   "id": "e25f98b5",
   "metadata": {},
   "source": [
    "## Consequence of Endogeneity\n",
    "\n",
    "Let us take a look at what happens when the assumption of strict exogeneity is broken\n",
    "\n",
    "### OLS Estimates Become Biased and Inconsistent\n",
    "\n",
    "We have seen in previous sections that the $\\hat\\beta$ can be represented in terms of $\\beta$ as\n",
    "\n",
    "$$ \\hat\\beta = \\beta + (\\text{X}^T\\text{X})^{-1}\\text{X}^T\\epsilon $$\n",
    "\n",
    "Taking expectation of both side conditioned on the design matrix, we get\n",
    "\n",
    "\\begin{align*}\n",
    "\\mathbb{E}[\\hat\\beta | \\text{X}] &= \\mathbb{E}[\\beta + (\\text{X}^T\\text{X})^{-1}\\text{X}^T\\epsilon | \\text{X}] \\\\\n",
    "                      &= \\beta +  \\mathbb{E}[(\\text{X}^T\\text{X})^{-1}\\text{X}^T\\epsilon | \\text{X}] \\\\\n",
    "                      &= \\beta +  (\\text{X}^T\\text{X})^{-1}\\text{X}^T\\mathbb{E}[\\epsilon | \\text{X}] \\\\\n",
    "\\end{align*}\n",
    "\n",
    "So now if strict exogeneity if broken i.e $\\mathbb{E}[\\epsilon | \\text{X}] \\neq 0$ then $\\mathbb{E}[\\hat\\beta | \\text{X}] \\neq \\beta$ and the estimate will be biased.\n",
    "\n",
    "### Inference Is Invalid\n",
    "\n",
    "Because the OLS estimator is biased:\n",
    "\n",
    "- Confidence intervals no longer cover the true $\\beta$ with the advertised probability\n",
    "- p-values are meaningless\n",
    "- Hypothesis testing becomes unreliable\n",
    "\n",
    "### Variance Estimates Are Wrong\n",
    "\n",
    "We have seen in previous section that the variance formula for OLS also assumes exogeneity is give by\n",
    "\n",
    "$$ \\mathbb{V}[\\hat\\beta] = \\sigma(\\text{X}^T\\text{X})^{-1} $$\n",
    "\n",
    "If errors correlate with predictors:\n",
    "\n",
    "- The residuals are “contaminated” with information about **X**\n",
    "- Standard error formulas become invalid\n",
    "- This leads to overconfident or misleading conclusions"
   ]
  },
  {
   "cell_type": "markdown",
   "id": "5aa43544",
   "metadata": {},
   "source": [
    "## How to "
   ]
  }
 ],
 "metadata": {
  "kernelspec": {
   "display_name": "Python 3 (ipykernel)",
   "language": "python",
   "name": "python3"
  },
  "language_info": {
   "codemirror_mode": {
    "name": "ipython",
    "version": 3
   },
   "file_extension": ".py",
   "mimetype": "text/x-python",
   "name": "python",
   "nbconvert_exporter": "python",
   "pygments_lexer": "ipython3",
   "version": "3.13.5"
  },
  "toc": {
   "base_numbering": 1,
   "nav_menu": {},
   "number_sections": true,
   "sideBar": true,
   "skip_h1_title": false,
   "title_cell": "Table of Contents",
   "title_sidebar": "Contents",
   "toc_cell": false,
   "toc_position": {},
   "toc_section_display": true,
   "toc_window_display": false
  }
 },
 "nbformat": 4,
 "nbformat_minor": 5
}
